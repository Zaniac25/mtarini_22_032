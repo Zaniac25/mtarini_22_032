{
  "cells": [
    {
      "cell_type": "markdown",
      "metadata": {
        "id": "view-in-github",
        "colab_type": "text"
      },
      "source": [
        "<a href=\"https://colab.research.google.com/github/Zaniac25/mtarini_22_032/blob/main/practice1.ipynb\" target=\"_parent\"><img src=\"https://colab.research.google.com/assets/colab-badge.svg\" alt=\"Open In Colab\"/></a>"
      ]
    },
    {
      "cell_type": "code",
      "execution_count": null,
      "metadata": {
        "colab": {
          "base_uri": "https://localhost:8080/"
        },
        "id": "sepDo2542qF5",
        "outputId": "173294ce-2d19-46a7-8b32-8a3a28618226"
      },
      "outputs": [
        {
          "name": "stdout",
          "output_type": "stream",
          "text": [
            "the list is [1, -3, 20, 40, 18, 6]\n",
            "the sorted list is [-3, 1, 6, 18, 20, 40]\n"
          ]
        }
      ],
      "source": [
        "list=[1,-3,20,40,18,6]\n",
        "print(\"the list is\",list)\n",
        "\n",
        "for i in range(0,len(list)):\n",
        "  for j in range(i+1,len(list)):\n",
        "    if list[i]>=list[j]:\n",
        "      list[i],list[j]=list[j],list[i]\n",
        "print(\"the sorted list is\",list)"
      ]
    },
    {
      "cell_type": "code",
      "execution_count": null,
      "metadata": {
        "colab": {
          "base_uri": "https://localhost:8080/",
          "height": 106
        },
        "id": "8Znb-uvr2bza",
        "outputId": "8c25fc27-9f04-479f-dcef-1670a44523f4"
      },
      "outputs": [
        {
          "ename": "SyntaxError",
          "evalue": "unexpected character after line continuation character (<ipython-input-8-507723d58dda>, line 3)",
          "output_type": "error",
          "traceback": [
            "\u001b[0;36m  File \u001b[0;32m\"<ipython-input-8-507723d58dda>\"\u001b[0;36m, line \u001b[0;32m3\u001b[0m\n\u001b[0;31m    print(\"The two sorted lists are\",l1,\\nl2)\u001b[0m\n\u001b[0m                                         ^\u001b[0m\n\u001b[0;31mSyntaxError\u001b[0m\u001b[0;31m:\u001b[0m unexpected character after line continuation character\n"
          ]
        }
      ],
      "source": [
        "l1=[2,3,4,5,6]\n",
        "l2=[7,8,9,10,11]\n",
        "print(\"The two sorted lists are\",l1,l2)\n",
        "\n",
        "s1=len(l1)\n",
        "s2=len(l2)\n"
      ]
    },
    {
      "cell_type": "code",
      "execution_count": null,
      "metadata": {
        "colab": {
          "base_uri": "https://localhost:8080/"
        },
        "id": "Nmi-35XF6wBu",
        "outputId": "6c86b929-0c0b-428a-c432-7b71926f8fef"
      },
      "outputs": [
        {
          "name": "stdout",
          "output_type": "stream",
          "text": [
            "2\n",
            "(2, 4)\n"
          ]
        }
      ],
      "source": [
        "import numpy as np\n",
        "data2=[[1,2,3,4],[5,6,7,8]]\n",
        "arr2=np.array(data2)\n",
        "print(arr2.ndim) #2\n",
        "print(arr2.shape) #(2,4)\n"
      ]
    },
    {
      "cell_type": "code",
      "execution_count": null,
      "metadata": {
        "colab": {
          "base_uri": "https://localhost:8080/"
        },
        "id": "B5N2Mjeb8KQy",
        "outputId": "5efdc48c-af98-45fc-ed77-45cf2e401255"
      },
      "outputs": [
        {
          "name": "stdout",
          "output_type": "stream",
          "text": [
            "2\n",
            "(2, 4)\n",
            "[[1 2 3 4]\n",
            " [5 6 7 8]]\n"
          ]
        }
      ],
      "source": [
        "import numpy as np\n",
        "data2=[[1,2,3,4],[5,6,7,8]]\n",
        "arr2=np.array(data2)\n",
        "print(arr2.ndim) #2\n",
        "print(arr2.shape) #(2,4)\n",
        "print(arr2)"
      ]
    },
    {
      "cell_type": "code",
      "execution_count": null,
      "metadata": {
        "colab": {
          "base_uri": "https://localhost:8080/"
        },
        "id": "GWFpwUZf89w4",
        "outputId": "7b30008b-4663-49cf-bfb0-9ddb72008b67"
      },
      "outputs": [
        {
          "name": "stdout",
          "output_type": "stream",
          "text": [
            "2\n",
            "(1, 4)\n",
            "[[1 2 3 4]]\n"
          ]
        }
      ],
      "source": [
        "import numpy as np\n",
        "data2=[[1,2,3,4]]\n",
        "arr2=np.array(data2)\n",
        "print(arr2.ndim) #2\n",
        "print(arr2.shape) #(2,4)\n",
        "print(arr2)"
      ]
    },
    {
      "cell_type": "code",
      "execution_count": null,
      "metadata": {
        "colab": {
          "base_uri": "https://localhost:8080/"
        },
        "id": "YuEDtuSJ9frZ",
        "outputId": "c6dd4250-64fb-4c8a-debe-cbe7286fa7d3"
      },
      "outputs": [
        {
          "data": {
            "text/plain": [
              "array([[0, 1, 2],\n",
              "       [2, 3, 4]])"
            ]
          },
          "execution_count": 14,
          "metadata": {},
          "output_type": "execute_result"
        }
      ],
      "source": [
        "a=np.array([[0,1,2],[2,3,4]])\n",
        "a"
      ]
    },
    {
      "cell_type": "code",
      "execution_count": null,
      "metadata": {
        "colab": {
          "base_uri": "https://localhost:8080/"
        },
        "id": "iompJ5D8-Mzb",
        "outputId": "bd9ae49f-b84b-4cd6-8d38-7df25d33303f"
      },
      "outputs": [
        {
          "data": {
            "text/plain": [
              "array([[0., 0., 0.],\n",
              "       [0., 0., 0.]])"
            ]
          },
          "execution_count": 15,
          "metadata": {},
          "output_type": "execute_result"
        }
      ],
      "source": [
        "ar=np.zeros((2,3))\n",
        "ar"
      ]
    },
    {
      "cell_type": "code",
      "execution_count": null,
      "metadata": {
        "colab": {
          "base_uri": "https://localhost:8080/"
        },
        "id": "IuUR7KLI-sdV",
        "outputId": "8daba77a-8ad1-4b4c-ad3f-51e66c2082a6"
      },
      "outputs": [
        {
          "data": {
            "text/plain": [
              "array([[1., 1., 1.],\n",
              "       [1., 1., 1.]])"
            ]
          },
          "execution_count": 16,
          "metadata": {},
          "output_type": "execute_result"
        }
      ],
      "source": [
        "ar=np.ones((2,3))\n",
        "ar"
      ]
    },
    {
      "cell_type": "code",
      "execution_count": null,
      "metadata": {
        "colab": {
          "base_uri": "https://localhost:8080/"
        },
        "id": "aFrzIGdV-6-q",
        "outputId": "79edc61c-0f95-47c1-adbb-81db54a28891"
      },
      "outputs": [
        {
          "data": {
            "text/plain": [
              "array([[1., 0.],\n",
              "       [0., 1.]])"
            ]
          },
          "execution_count": 18,
          "metadata": {},
          "output_type": "execute_result"
        }
      ],
      "source": [
        "ar=np.eye(2)\n",
        "ar"
      ]
    },
    {
      "cell_type": "code",
      "execution_count": null,
      "metadata": {
        "colab": {
          "base_uri": "https://localhost:8080/"
        },
        "id": "pZeFm1Yy_bVk",
        "outputId": "6b63a3b3-4783-4581-edd2-ba3fb5529e4d"
      },
      "outputs": [
        {
          "data": {
            "text/plain": [
              "array([ 0,  3,  6,  9, 12, 15, 18])"
            ]
          },
          "execution_count": 19,
          "metadata": {},
          "output_type": "execute_result"
        }
      ],
      "source": [
        "array=np.arange(0,20,3)\n",
        "array"
      ]
    },
    {
      "cell_type": "code",
      "execution_count": null,
      "metadata": {
        "colab": {
          "base_uri": "https://localhost:8080/"
        },
        "id": "NYowPq94Aiiv",
        "outputId": "5348f013-e128-45b6-d5d4-7c80c28a584f"
      },
      "outputs": [
        {
          "data": {
            "text/plain": [
              "array([[2, 3, 0],\n",
              "       [8, 8, 1],\n",
              "       [1, 1, 4]])"
            ]
          },
          "execution_count": 20,
          "metadata": {},
          "output_type": "execute_result"
        }
      ],
      "source": [
        "array=np.random.randint(0,10,(3,3))\n",
        "array"
      ]
    },
    {
      "cell_type": "code",
      "execution_count": null,
      "metadata": {
        "colab": {
          "background_save": true
        },
        "id": "44tZlDiGBDiQ",
        "outputId": "215c207a-7e76-4b0c-8975-fe0ce8894f8f"
      },
      "outputs": [
        {
          "name": "stdout",
          "output_type": "stream",
          "text": [
            "[[1 2 3]\n",
            " [4 5 6]]\n",
            "[[ 1  4  9]\n",
            " [16 25 36]]\n",
            "[[0 0 0]\n",
            " [0 0 0]]\n"
          ]
        }
      ],
      "source": [
        "arr=np.array([[1,2,3],[4,5,6]])\n",
        "print(arr)"
      ]
    },
    {
      "cell_type": "code",
      "source": [
        "def gcd_fun(x,y):\n",
        "  if(y==0):\n",
        "    return x\n",
        "  else:\n",
        "    return gcd_fun(y,x%y)\n",
        "x=int(input(\"Enter first number:\"))\n",
        "y=int(input(\"Enter the second number:\"))\n",
        "num=gcd_fun(x,y)\n",
        "print(\"gcd of two numbers is:\")\n",
        "print(num)\n"
      ],
      "metadata": {
        "colab": {
          "base_uri": "https://localhost:8080/"
        },
        "id": "oermfV_FOTMk",
        "outputId": "61ee4125-630e-456e-fb53-b9566223cc00"
      },
      "execution_count": null,
      "outputs": [
        {
          "output_type": "stream",
          "name": "stdout",
          "text": [
            "Enter first number:25\n",
            "Enter the second number:36\n",
            "gcd of two numbers is:\n",
            "1\n"
          ]
        }
      ]
    },
    {
      "cell_type": "code",
      "source": [
        "# Python3 implementation of the approach\n",
        "\n",
        "# Function to return the square root of\n",
        "# a number using Newtons method\n",
        "def squareRoot(n, l) :\n",
        "\n",
        "    # Assuming the sqrt of n as n only\n",
        "    x = n\n",
        "\n",
        "    # To count the number of iterations\n",
        "    count = 0\n",
        "\n",
        "    while (1) :\n",
        "        count += 1\n",
        "\n",
        "        # Calculate more closed x\n",
        "        root = 0.5 * (x + (n / x))\n",
        "\n",
        "        # Check for closeness\n",
        "        if (abs(root - x) < l) :\n",
        "            break\n",
        "\n",
        "        # Update root\n",
        "        x = root\n",
        "\n",
        "    return root\n",
        "\n",
        "# Driver code\n",
        "if __name__ == \"__main__\" :\n",
        "\n",
        "    n = 327\n",
        "    l = 0.00001\n",
        "\n",
        "    print(squareRoot(n, l))\n",
        "\n",
        "# This code is contributed by AnkitRai01"
      ],
      "metadata": {
        "colab": {
          "base_uri": "https://localhost:8080/"
        },
        "id": "oJenL26fQ18K",
        "outputId": "3a6a9bf3-a58e-45e0-d6fc-a7ee1beab20e"
      },
      "execution_count": null,
      "outputs": [
        {
          "output_type": "stream",
          "name": "stdout",
          "text": [
            "18.083141320025124\n"
          ]
        }
      ]
    },
    {
      "cell_type": "code",
      "source": [
        "def binary_search(list1,n):\n",
        "  low=0\n",
        "  high=len(list1-1)-1\n",
        "  mid=0\n",
        "    while low<=high:\n",
        "      mid=(high+low)//2\n",
        "    if list1 (mid)<n1:\n"
      ],
      "metadata": {
        "id": "QhUKsJKuS4AW"
      },
      "execution_count": null,
      "outputs": []
    }
  ],
  "metadata": {
    "colab": {
      "provenance": [],
      "toc_visible": true,
      "authorship_tag": "ABX9TyNq0zRToSyeG9z2B+Fhy7yJ",
      "include_colab_link": true
    },
    "kernelspec": {
      "display_name": "Python 3",
      "name": "python3"
    },
    "language_info": {
      "name": "python"
    }
  },
  "nbformat": 4,
  "nbformat_minor": 0
}